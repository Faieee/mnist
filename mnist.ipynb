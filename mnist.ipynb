{
 "cells": [
  {
   "cell_type": "code",
   "execution_count": 20,
   "id": "67b479d4",
   "metadata": {},
   "outputs": [],
   "source": [
    "from keras.datasets import mnist\n",
    "import numpy as np"
   ]
  },
  {
   "cell_type": "code",
   "execution_count": 6,
   "id": "794d9c56",
   "metadata": {},
   "outputs": [],
   "source": [
    "(X_train_orig, Y_train), (X_test_orig, Y_test) = mnist.load_data()"
   ]
  },
  {
   "cell_type": "code",
   "execution_count": 8,
   "id": "6ee21d6d",
   "metadata": {},
   "outputs": [
    {
     "name": "stdout",
     "output_type": "stream",
     "text": [
      "(60000, 28, 28)\n",
      "(60000,)\n"
     ]
    }
   ],
   "source": [
    "print(X_train_orig.shape)\n",
    "print(Y_train.shape)"
   ]
  },
  {
   "cell_type": "code",
   "execution_count": 168,
   "id": "babcb034",
   "metadata": {},
   "outputs": [],
   "source": [
    "# Y_train array of only zero digits\n",
    "Y_train_zeros = Y_train\n",
    "for i, digit in enumerate(Y_train):\n",
    "    if digit == 0:\n",
    "        Y_train_zeros[i] = 1\n",
    "    else:\n",
    "        Y_train_zeros[i] = 0"
   ]
  },
  {
   "cell_type": "code",
   "execution_count": 169,
   "id": "4afbf848",
   "metadata": {},
   "outputs": [
    {
     "data": {
      "text/plain": [
       "array([0, 1, 0, ..., 0, 0, 0], dtype=uint8)"
      ]
     },
     "execution_count": 169,
     "metadata": {},
     "output_type": "execute_result"
    }
   ],
   "source": [
    "Y_train_zeros"
   ]
  },
  {
   "cell_type": "code",
   "execution_count": 36,
   "id": "d6119936",
   "metadata": {},
   "outputs": [
    {
     "name": "stdout",
     "output_type": "stream",
     "text": [
      "(784, 60000)\n",
      "(784, 10000)\n"
     ]
    }
   ],
   "source": [
    "# turn X_train and X_test into 2-dim matrix\n",
    "X_train = X_train_orig.reshape(X_train_orig.shape[1] * X_train_orig.shape[2], X_train_orig.shape[0])\n",
    "X_test = X_test_orig.reshape(X_test_orig.shape[1] * X_test_orig.shape[2], X_test_orig.shape[0])\n",
    "\n",
    "print(X_train.shape)\n",
    "print(X_test.shape)\n",
    "\n",
    "# normalize data from 0-255 to 0-1\n",
    "X_train_norm = X_train / 255\n",
    "X_test_norm = X_test / 255"
   ]
  },
  {
   "cell_type": "code",
   "execution_count": 99,
   "id": "a4e54f8e",
   "metadata": {},
   "outputs": [
    {
     "data": {
      "text/plain": [
       "(784, 60000)"
      ]
     },
     "execution_count": 99,
     "metadata": {},
     "output_type": "execute_result"
    }
   ],
   "source": [
    "X_train_norm.shape"
   ]
  },
  {
   "cell_type": "markdown",
   "id": "0b46efdd",
   "metadata": {},
   "source": [
    "Each epoch will contain:\n",
    "\n",
    "1) calculate Z (linear)\n",
    "\n",
    "2) calculate A (sigmoid)\n",
    "\n",
    "3) apply cost fuction (log-loss)\n",
    "\n",
    "4) take derivative with respect to every w and b\n",
    "\n",
    "5) apply corrections with learning rate\n"
   ]
  },
  {
   "cell_type": "code",
   "execution_count": 170,
   "id": "03a021d1",
   "metadata": {},
   "outputs": [],
   "source": [
    "# initialize W and b to zeros\n",
    "# b is just 0, W is shape (m, 1)\n",
    "\n",
    "def initialize_W_b(X):\n",
    "    W = np.zeros((X.shape[0], 1))\n",
    "    b = 0\n",
    "    \n",
    "    return W, b"
   ]
  },
  {
   "cell_type": "code",
   "execution_count": 171,
   "id": "668359a1",
   "metadata": {},
   "outputs": [],
   "source": [
    "def propagate(X, Y, W, b):\n",
    "    # m = number of cases\n",
    "    m = X.shape[1]\n",
    "    \n",
    "    # 1) calculate Z (linear)\n",
    "    # 1.1) Z = W^T dot X + b\n",
    "    Z = np.dot(np.transpose(W), X) + b\n",
    "    \n",
    "    # 2) calcualte A (sigmoid)\n",
    "    A = 1/(1 + np.exp(Z))\n",
    "    # 3) apply cost function (log-loss)\n",
    "    # 3.1) L = -y(log(a)) - (1-y)log(1-a)\n",
    "    # 3.2) cost = -(1/m) sum(y(log(a)) + (1-y)log(1-a))\n",
    "    cost = -(1 / m) * np.sum((Y * np.log(A)) + ((1 - Y) * np.log(1 - A)))\n",
    "    \n",
    "    # 4) take derivative with respec to every w and b\n",
    "    # 4.1) d_w = (1/m) * x(a - y); d_b = (1/m) * (a-y)\n",
    "    d_W = (1 / m) * np.dot(X, np.transpose(A - Y))\n",
    "    d_b = (1 / m) * np.sum(A - Y)\n",
    "    \n",
    "    return d_W, d_b, cost"
   ]
  },
  {
   "cell_type": "code",
   "execution_count": 172,
   "id": "403e9e1e",
   "metadata": {},
   "outputs": [],
   "source": [
    "def optimize(X, Y, W, b, learning_rate=0.01, epochs=100):\n",
    "    \n",
    "    for i in range(epochs):\n",
    "        d_W, d_b, cost = propagate(X, Y, W, b)\n",
    "        \n",
    "        # 5) apply corrections with learning rate\n",
    "        W = W - (learning_rate * d_W)\n",
    "        b = b - (learning_rate * d_b)\n",
    "        \n",
    "        if((i+1)%10 == 0):\n",
    "            print(f'After epoch {i + 1}, cost = {cost}')\n",
    "    \n",
    "    return W, b"
   ]
  },
  {
   "cell_type": "code",
   "execution_count": 178,
   "id": "80fff77f",
   "metadata": {},
   "outputs": [],
   "source": [
    "W, b = initialize_W_b(X_train_norm)"
   ]
  },
  {
   "cell_type": "code",
   "execution_count": 179,
   "id": "f6900974",
   "metadata": {},
   "outputs": [
    {
     "name": "stdout",
     "output_type": "stream",
     "text": [
      "After epoch 10, cost = 0.6952533412432762\n",
      "After epoch 20, cost = 0.6976097451190808\n",
      "After epoch 30, cost = 0.6999833484005908\n",
      "After epoch 40, cost = 0.7023742759107157\n",
      "After epoch 50, cost = 0.7047826530613372\n",
      "After epoch 60, cost = 0.707208605847334\n",
      "After epoch 70, cost = 0.709652260840356\n",
      "After epoch 80, cost = 0.712113745182357\n",
      "After epoch 90, cost = 0.7145931865788722\n",
      "After epoch 100, cost = 0.7170907132920399\n",
      "After epoch 110, cost = 0.7196064541333662\n",
      "After epoch 120, cost = 0.7221405384562256\n",
      "After epoch 130, cost = 0.7246930961480958\n",
      "After epoch 140, cost = 0.7272642576225224\n",
      "After epoch 150, cost = 0.7298541538108119\n",
      "After epoch 160, cost = 0.732462916153445\n",
      "After epoch 170, cost = 0.7350906765912139\n",
      "After epoch 180, cost = 0.7377375675560718\n",
      "After epoch 190, cost = 0.7404037219616997\n",
      "After epoch 200, cost = 0.7430892731937799\n",
      "After epoch 210, cost = 0.7457943550999792\n",
      "After epoch 220, cost = 0.7485191019796327\n",
      "After epoch 230, cost = 0.7512636485731315\n",
      "After epoch 240, cost = 0.7540281300510054\n",
      "After epoch 250, cost = 0.7568126820027024\n",
      "After epoch 260, cost = 0.7596174404250576\n",
      "After epoch 270, cost = 0.7624425417104552\n",
      "After epoch 280, cost = 0.7652881226346723\n",
      "After epoch 290, cost = 0.7681543203444107\n",
      "After epoch 300, cost = 0.7710412723445077\n",
      "After epoch 310, cost = 0.7739491164848273\n",
      "After epoch 320, cost = 0.7768779909468283\n",
      "After epoch 330, cost = 0.7798280342298061\n",
      "After epoch 340, cost = 0.7827993851368085\n",
      "After epoch 350, cost = 0.7857921827602219\n",
      "After epoch 360, cost = 0.7888065664670264\n",
      "After epoch 370, cost = 0.7918426758837197\n",
      "After epoch 380, cost = 0.794900650880904\n",
      "After epoch 390, cost = 0.7979806315575412\n",
      "After epoch 400, cost = 0.8010827582248691\n",
      "After epoch 410, cost = 0.8042071713899812\n",
      "After epoch 420, cost = 0.8073540117390672\n",
      "After epoch 430, cost = 0.8105234201203148\n",
      "After epoch 440, cost = 0.8137155375264721\n",
      "After epoch 450, cost = 0.8169305050770693\n",
      "After epoch 460, cost = 0.8201684640002997\n",
      "After epoch 470, cost = 0.8234295556145618\n",
      "After epoch 480, cost = 0.8267139213096596\n",
      "After epoch 490, cost = 0.8300217025276648\n",
      "After epoch 500, cost = 0.8333530407434384\n",
      "After epoch 510, cost = 0.8367080774448139\n",
      "After epoch 520, cost = 0.8400869541124444\n",
      "After epoch 530, cost = 0.843489812199312\n",
      "After epoch 540, cost = 0.8469167931099038\n",
      "After epoch 550, cost = 0.8503680381790528\n",
      "After epoch 560, cost = 0.8538436886504505\n",
      "After epoch 570, cost = 0.8573438856548261\n",
      "After epoch 580, cost = 0.8608687701878037\n",
      "After epoch 590, cost = 0.8644184830874313\n",
      "After epoch 600, cost = 0.867993165011391\n",
      "After epoch 610, cost = 0.87159295641389\n",
      "After epoch 620, cost = 0.8752179975222361\n",
      "After epoch 630, cost = 0.8788684283131025\n",
      "After epoch 640, cost = 0.882544388488487\n",
      "After epoch 650, cost = 0.8862460174513633\n",
      "After epoch 660, cost = 0.8899734542810392\n",
      "After epoch 670, cost = 0.893726837708216\n",
      "After epoch 680, cost = 0.897506306089761\n",
      "After epoch 690, cost = 0.9013119973831959\n",
      "After epoch 700, cost = 0.9051440491209058\n",
      "After epoch 710, cost = 0.9090025983840778\n",
      "After epoch 720, cost = 0.9128877817763698\n",
      "After epoch 730, cost = 0.9167997353973232\n",
      "After epoch 740, cost = 0.9207385948155185\n",
      "After epoch 750, cost = 0.9247044950414868\n",
      "After epoch 760, cost = 0.9286975705003827\n",
      "After epoch 770, cost = 0.9327179550044224\n",
      "After epoch 780, cost = 0.9367657817251028\n",
      "After epoch 790, cost = 0.9408411831652006\n",
      "After epoch 800, cost = 0.9449442911305679\n",
      "After epoch 810, cost = 0.9490752367017269\n",
      "After epoch 820, cost = 0.9532341502052774\n",
      "After epoch 830, cost = 0.9574211611851235\n",
      "After epoch 840, cost = 0.9616363983735299\n",
      "After epoch 850, cost = 0.965879989662017\n",
      "After epoch 860, cost = 0.9701520620721102\n",
      "After epoch 870, cost = 0.9744527417259425\n",
      "After epoch 880, cost = 0.978782153816736\n",
      "After epoch 890, cost = 0.9831404225791588\n",
      "After epoch 900, cost = 0.987527671259581\n",
      "After epoch 910, cost = 0.9919440220862324\n",
      "After epoch 920, cost = 0.9963895962392794\n",
      "After epoch 930, cost = 1.0008645138208303\n",
      "After epoch 940, cost = 1.0053688938248813\n",
      "After epoch 950, cost = 1.0099028541072204\n",
      "After epoch 960, cost = 1.0144665113552933\n",
      "After epoch 970, cost = 1.019059981058055\n",
      "After epoch 980, cost = 1.0236833774758118\n",
      "After epoch 990, cost = 1.0283368136100726\n",
      "After epoch 1000, cost = 1.0330204011734196\n"
     ]
    }
   ],
   "source": [
    "d_W, d_b = optimize(X_train_norm, Y_train_zeros, W, b, learning_rate=0.0001, epochs=1000)"
   ]
  },
  {
   "cell_type": "code",
   "execution_count": 151,
   "id": "af30bd48",
   "metadata": {},
   "outputs": [
    {
     "name": "stdout",
     "output_type": "stream",
     "text": [
      "[[3210]\n",
      " [6420]\n",
      " [9630]]\n"
     ]
    }
   ],
   "source": [
    "a = np.array([[1, 2, 3]])\n",
    "x = np.array([[10, 100, 1000],\n",
    "             [20, 200, 2000],\n",
    "             [30, 300, 3000]])\n",
    "print(np.dot(x, np.transpose(a)))"
   ]
  },
  {
   "cell_type": "code",
   "execution_count": null,
   "id": "7c0cd676",
   "metadata": {},
   "outputs": [],
   "source": []
  }
 ],
 "metadata": {
  "kernelspec": {
   "display_name": "Python 3 (ipykernel)",
   "language": "python",
   "name": "python3"
  },
  "language_info": {
   "codemirror_mode": {
    "name": "ipython",
    "version": 3
   },
   "file_extension": ".py",
   "mimetype": "text/x-python",
   "name": "python",
   "nbconvert_exporter": "python",
   "pygments_lexer": "ipython3",
   "version": "3.10.5"
  }
 },
 "nbformat": 4,
 "nbformat_minor": 5
}

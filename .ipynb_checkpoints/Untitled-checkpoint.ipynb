{
 "cells": [
  {
   "cell_type": "code",
   "execution_count": 20,
   "id": "67b479d4",
   "metadata": {},
   "outputs": [],
   "source": [
    "from keras.datasets import mnist\n",
    "import numpy as np"
   ]
  },
  {
   "cell_type": "code",
   "execution_count": 6,
   "id": "794d9c56",
   "metadata": {},
   "outputs": [],
   "source": [
    "(X_train_orig, Y_train), (X_test_orig, Y_test) = mnist.load_data()"
   ]
  },
  {
   "cell_type": "code",
   "execution_count": 8,
   "id": "6ee21d6d",
   "metadata": {},
   "outputs": [
    {
     "name": "stdout",
     "output_type": "stream",
     "text": [
      "(60000, 28, 28)\n",
      "(60000,)\n"
     ]
    }
   ],
   "source": [
    "print(X_train_orig.shape)\n",
    "print(Y_train.shape)"
   ]
  },
  {
   "cell_type": "code",
   "execution_count": 36,
   "id": "847eb6ca",
   "metadata": {},
   "outputs": [
    {
     "name": "stdout",
     "output_type": "stream",
     "text": [
      "(784, 60000)\n",
      "(784, 10000)\n"
     ]
    }
   ],
   "source": [
    "# turn X_train and X_test into 2-dim matrix\n",
    "X_train = X_train_orig.reshape(X_train_orig.shape[1] * X_train_orig.shape[2], X_train_orig.shape[0])\n",
    "X_test = X_test_orig.reshape(X_test_orig.shape[1] * X_test_orig.shape[2], X_test_orig.shape[0])\n",
    "\n",
    "print(X_train.shape)\n",
    "print(X_test.shape)\n",
    "\n",
    "# normalize data from 0-255 to 0-1\n",
    "X_train_norm = X_train / 255\n",
    "X_test_norm = X_test / 255"
   ]
  },
  {
   "cell_type": "code",
   "execution_count": 99,
   "id": "49ea0551",
   "metadata": {},
   "outputs": [
    {
     "data": {
      "text/plain": [
       "(784, 60000)"
      ]
     },
     "execution_count": 99,
     "metadata": {},
     "output_type": "execute_result"
    }
   ],
   "source": [
    "X_train_norm.shape"
   ]
  },
  {
   "cell_type": "markdown",
   "id": "58789f02",
   "metadata": {},
   "source": [
    "Each epoch will contain:\n",
    "\n",
    "1) calculate Z (linear)\n",
    "\n",
    "2) calculate A (sigmoid)\n",
    "\n",
    "3) apply cost fuction (log-loss)\n",
    "\n",
    "4) take derivative with respect to every w and b\n",
    "\n",
    "5) apply corrections with learning rate\n"
   ]
  },
  {
   "cell_type": "code",
   "execution_count": 135,
   "id": "c743f528",
   "metadata": {},
   "outputs": [],
   "source": [
    "# initialize W and b to zeros\n",
    "# b is just 0, W is shape (m, 1)\n",
    "\n",
    "def initialize_W_b(X):\n",
    "    W = np.zeros((X.shape[0], 1))\n",
    "    b = 0\n",
    "    \n",
    "    return W, b"
   ]
  },
  {
   "cell_type": "code",
   "execution_count": 136,
   "id": "668359a1",
   "metadata": {},
   "outputs": [],
   "source": [
    "def propagate(X, Y, W, b):\n",
    "    # m = number of cases\n",
    "    m = X.shape[1]\n",
    "    \n",
    "    # 1) calculate Z (linear)\n",
    "    # 1.1) Z = W^T dot X + b\n",
    "    Z = np.dot(np.transpose(W), X) + b\n",
    "    \n",
    "    # 2) calcualte A (sigmoid)\n",
    "    A = 1/(1 + np.exp(Z))\n",
    "    \n",
    "    # 3) apply cost function (log-loss)\n",
    "    # 3.1) L = -y(log(a)) - (1-y)log(1-a)\n",
    "    # 3.2) cost = -(1/m) sum(y(log(a)) + (1-y)log(1-a))\n",
    "    cost = -(1 / m) * np.sum((Y * np.log(A)) + ((1 - Y) * np.log(1 - A)))\n",
    "    \n",
    "    # 4) take derivative with respec to every w and b\n",
    "    # 4.1) d_w = (1/m) * x(a - y); d_b = (1/m) * (a-y)\n",
    "    d_W = (1 / m) * np.dot(X, np.transpose(A - Y))\n",
    "    d_b = (1 / m) * np.sum(A - Y)\n",
    "    \n",
    "    return d_W, d_b, cost"
   ]
  },
  {
   "cell_type": "code",
   "execution_count": 137,
   "id": "82519398",
   "metadata": {},
   "outputs": [],
   "source": [
    "def optimize(X, Y, W, b, learning_rate=0.01, epochs=100):\n",
    "    \n",
    "    for i in range(epochs):\n",
    "        d_W, d_b, cost = propagate(X, Y, W, b)\n",
    "        \n",
    "        # 5) apply corrections with learning rate\n",
    "        W = W - (learning_rate * d_W)\n",
    "        b = b - (learning_rate * d_b)\n",
    "        \n",
    "        if((i+1)%10 == 0):\n",
    "            print(f'After epoch {i + 1}, cost = {cost}')\n",
    "    \n",
    "    return W, b"
   ]
  },
  {
   "cell_type": "code",
   "execution_count": 138,
   "id": "46b39581",
   "metadata": {},
   "outputs": [],
   "source": [
    "W, b = initialize_W_b(X_train_norm)"
   ]
  },
  {
   "cell_type": "code",
   "execution_count": 139,
   "id": "4ad7285a",
   "metadata": {},
   "outputs": [
    {
     "name": "stdout",
     "output_type": "stream",
     "text": [
      "After epoch 10, cost = 96.82477916362095\n",
      "After epoch 20, cost = 62.264034165609026\n",
      "After epoch 30, cost = 40.75149577276785\n",
      "After epoch 40, cost = 28.915731517642893\n",
      "After epoch 50, cost = 23.384961138338426\n",
      "After epoch 60, cost = 21.61584617214714\n",
      "After epoch 70, cost = 21.97334665533013\n",
      "After epoch 80, cost = 23.497031548772878\n",
      "After epoch 90, cost = 25.649935637986662\n",
      "After epoch 100, cost = 28.139608375583062\n"
     ]
    }
   ],
   "source": [
    "d_W, d_b = optimize(X_train_norm, Y_train, W, b, learning_rate=0.001, epochs=100)"
   ]
  },
  {
   "cell_type": "code",
   "execution_count": null,
   "id": "d6f83d90",
   "metadata": {},
   "outputs": [],
   "source": []
  }
 ],
 "metadata": {
  "kernelspec": {
   "display_name": "Python 3 (ipykernel)",
   "language": "python",
   "name": "python3"
  },
  "language_info": {
   "codemirror_mode": {
    "name": "ipython",
    "version": 3
   },
   "file_extension": ".py",
   "mimetype": "text/x-python",
   "name": "python",
   "nbconvert_exporter": "python",
   "pygments_lexer": "ipython3",
   "version": "3.10.5"
  }
 },
 "nbformat": 4,
 "nbformat_minor": 5
}
